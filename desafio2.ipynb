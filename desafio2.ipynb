{
 "cells": [
  {
   "cell_type": "code",
   "execution_count": null,
   "id": "4754498e",
   "metadata": {},
   "outputs": [],
   "source": [
    "from selenium import webdriver \n",
    "\n",
    "url = 'https://www.portaltransparencia.gov.br/download-de-dados/servidores'\n",
    "browser = webdriver.Firefox()\n",
    "\n",
    "browser.get(url)\n",
    "\n",
    "browser.find_element_by_xpath('/html/body/main/div[2]/p[2]/a/button').click()\n",
    "\n",
    "browser.get(url)\n",
    "\n",
    "browser.find_element_by_xpath('/html/body/main/div[2]/p[3]/a/button').click()\n",
    "\n",
    "browser.get(url)\n",
    "\n",
    "browser.find_element_by_xpath('/html/body/main/div[2]/p[4]/a/button').click()"
   ]
  }
 ],
 "metadata": {
  "kernelspec": {
   "display_name": "Python 3",
   "language": "python",
   "name": "python3"
  },
  "language_info": {
   "codemirror_mode": {
    "name": "ipython",
    "version": 3
   },
   "file_extension": ".py",
   "mimetype": "text/x-python",
   "name": "python",
   "nbconvert_exporter": "python",
   "pygments_lexer": "ipython3",
   "version": "3.8.8"
  }
 },
 "nbformat": 4,
 "nbformat_minor": 5
}
